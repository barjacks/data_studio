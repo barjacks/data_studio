{
 "cells": [
  {
   "cell_type": "markdown",
   "metadata": {},
   "source": [
    "# Scrabble Data"
   ]
  },
  {
   "cell_type": "code",
   "execution_count": 10,
   "metadata": {
    "collapsed": true
   },
   "outputs": [],
   "source": [
    "import pandas as pd\n",
    "import matplotlib.pyplot as plt\n",
    "import numpy as np\n",
    "%matplotlib inline\n",
    "\n",
    "import matplotlib\n",
    "matplotlib.rcParams['pdf.fonttype'] = 42"
   ]
  },
  {
   "cell_type": "code",
   "execution_count": 24,
   "metadata": {
    "collapsed": false
   },
   "outputs": [],
   "source": [
    "plt.style.use('fivethirtyeight')"
   ]
  },
  {
   "cell_type": "code",
   "execution_count": 12,
   "metadata": {
    "collapsed": false
   },
   "outputs": [
    {
     "data": {
      "text/html": [
       "<div>\n",
       "<table border=\"1\" class=\"dataframe\">\n",
       "  <thead>\n",
       "    <tr style=\"text-align: right;\">\n",
       "      <th></th>\n",
       "      <th>Byes</th>\n",
       "      <th>Credits</th>\n",
       "      <th>Losses</th>\n",
       "      <th>Name</th>\n",
       "      <th>New Rating</th>\n",
       "      <th>Old Rating</th>\n",
       "      <th>Other Money</th>\n",
       "      <th>Perf Rating</th>\n",
       "      <th>Place</th>\n",
       "      <th>Player ID</th>\n",
       "      <th>...</th>\n",
       "      <th>Seed</th>\n",
       "      <th>Spread</th>\n",
       "      <th>Ties</th>\n",
       "      <th>Tournament ID</th>\n",
       "      <th>Wins</th>\n",
       "      <th>division</th>\n",
       "      <th>player_id</th>\n",
       "      <th>points_against</th>\n",
       "      <th>points_for</th>\n",
       "      <th>tournament_id</th>\n",
       "    </tr>\n",
       "  </thead>\n",
       "  <tbody>\n",
       "    <tr>\n",
       "      <th>0</th>\n",
       "      <td>0.0</td>\n",
       "      <td>0.0</td>\n",
       "      <td>7</td>\n",
       "      <td>Nigel Richards</td>\n",
       "      <td>2196</td>\n",
       "      <td>2168.0</td>\n",
       "      <td>0</td>\n",
       "      <td>2356.0</td>\n",
       "      <td>1</td>\n",
       "      <td>6003</td>\n",
       "      <td>...</td>\n",
       "      <td>1</td>\n",
       "      <td>1934</td>\n",
       "      <td>0.0</td>\n",
       "      <td>8163</td>\n",
       "      <td>24</td>\n",
       "      <td>Division 1</td>\n",
       "      <td>6003</td>\n",
       "      <td>381</td>\n",
       "      <td>443</td>\n",
       "      <td>8163</td>\n",
       "    </tr>\n",
       "    <tr>\n",
       "      <th>1</th>\n",
       "      <td>0.0</td>\n",
       "      <td>0.0</td>\n",
       "      <td>7</td>\n",
       "      <td>Komol Panyasophonlert</td>\n",
       "      <td>2070</td>\n",
       "      <td>2002.0</td>\n",
       "      <td>0</td>\n",
       "      <td>2372.0</td>\n",
       "      <td>2</td>\n",
       "      <td>20749</td>\n",
       "      <td>...</td>\n",
       "      <td>11</td>\n",
       "      <td>1868</td>\n",
       "      <td>0.0</td>\n",
       "      <td>8163</td>\n",
       "      <td>24</td>\n",
       "      <td>Division 1</td>\n",
       "      <td>20749</td>\n",
       "      <td>375</td>\n",
       "      <td>435</td>\n",
       "      <td>8163</td>\n",
       "    </tr>\n",
       "    <tr>\n",
       "      <th>2</th>\n",
       "      <td>0.0</td>\n",
       "      <td>0.0</td>\n",
       "      <td>8</td>\n",
       "      <td>Will Anderson</td>\n",
       "      <td>2093</td>\n",
       "      <td>2054.0</td>\n",
       "      <td>0</td>\n",
       "      <td>2264.0</td>\n",
       "      <td>3</td>\n",
       "      <td>19535</td>\n",
       "      <td>...</td>\n",
       "      <td>2</td>\n",
       "      <td>1623</td>\n",
       "      <td>0.0</td>\n",
       "      <td>8163</td>\n",
       "      <td>23</td>\n",
       "      <td>Division 1</td>\n",
       "      <td>19535</td>\n",
       "      <td>391</td>\n",
       "      <td>443</td>\n",
       "      <td>8163</td>\n",
       "    </tr>\n",
       "    <tr>\n",
       "      <th>3</th>\n",
       "      <td>0.0</td>\n",
       "      <td>0.0</td>\n",
       "      <td>9</td>\n",
       "      <td>Noah Walton</td>\n",
       "      <td>2063</td>\n",
       "      <td>2015.0</td>\n",
       "      <td>0</td>\n",
       "      <td>2239.0</td>\n",
       "      <td>4</td>\n",
       "      <td>18474</td>\n",
       "      <td>...</td>\n",
       "      <td>8</td>\n",
       "      <td>1628</td>\n",
       "      <td>0.0</td>\n",
       "      <td>8163</td>\n",
       "      <td>22</td>\n",
       "      <td>Division 1</td>\n",
       "      <td>18474</td>\n",
       "      <td>386</td>\n",
       "      <td>439</td>\n",
       "      <td>8163</td>\n",
       "    </tr>\n",
       "    <tr>\n",
       "      <th>4</th>\n",
       "      <td>0.0</td>\n",
       "      <td>0.0</td>\n",
       "      <td>10</td>\n",
       "      <td>Kenji Matsumoto</td>\n",
       "      <td>2057</td>\n",
       "      <td>2023.0</td>\n",
       "      <td>0</td>\n",
       "      <td>2212.0</td>\n",
       "      <td>5</td>\n",
       "      <td>583</td>\n",
       "      <td>...</td>\n",
       "      <td>5</td>\n",
       "      <td>1671</td>\n",
       "      <td>0.0</td>\n",
       "      <td>8163</td>\n",
       "      <td>21</td>\n",
       "      <td>Division 1</td>\n",
       "      <td>583</td>\n",
       "      <td>396</td>\n",
       "      <td>450</td>\n",
       "      <td>8163</td>\n",
       "    </tr>\n",
       "  </tbody>\n",
       "</table>\n",
       "<p>5 rows × 21 columns</p>\n",
       "</div>"
      ],
      "text/plain": [
       "   Byes  Credits  Losses                   Name  New Rating  Old Rating  \\\n",
       "0   0.0      0.0       7         Nigel Richards        2196      2168.0   \n",
       "1   0.0      0.0       7  Komol Panyasophonlert        2070      2002.0   \n",
       "2   0.0      0.0       8          Will Anderson        2093      2054.0   \n",
       "3   0.0      0.0       9            Noah Walton        2063      2015.0   \n",
       "4   0.0      0.0      10        Kenji Matsumoto        2057      2023.0   \n",
       "\n",
       "  Other Money  Perf Rating  Place  Player ID      ...       Seed  Spread  \\\n",
       "0           0       2356.0      1       6003      ...          1    1934   \n",
       "1           0       2372.0      2      20749      ...         11    1868   \n",
       "2           0       2264.0      3      19535      ...          2    1623   \n",
       "3           0       2239.0      4      18474      ...          8    1628   \n",
       "4           0       2212.0      5        583      ...          5    1671   \n",
       "\n",
       "   Ties  Tournament ID  Wins    division player_id  points_against  \\\n",
       "0   0.0           8163    24  Division 1      6003             381   \n",
       "1   0.0           8163    24  Division 1     20749             375   \n",
       "2   0.0           8163    23  Division 1     19535             391   \n",
       "3   0.0           8163    22  Division 1     18474             386   \n",
       "4   0.0           8163    21  Division 1       583             396   \n",
       "\n",
       "   points_for  tournament_id  \n",
       "0         443           8163  \n",
       "1         435           8163  \n",
       "2         443           8163  \n",
       "3         439           8163  \n",
       "4         450           8163  \n",
       "\n",
       "[5 rows x 21 columns]"
      ]
     },
     "execution_count": 12,
     "metadata": {},
     "output_type": "execute_result"
    }
   ],
   "source": [
    "points_df  = pd.read_csv(\"scrabble-point-spread.csv\")\n",
    "tournament_df = pd.read_csv(\"scrabble-tournament.csv\")\n",
    "df = tournament_df.merge(points_df, left_on='Player ID', right_on='player_id').fillna(0)\n",
    "df.head()"
   ]
  },
  {
   "cell_type": "code",
   "execution_count": 13,
   "metadata": {
    "collapsed": false
   },
   "outputs": [
    {
     "name": "stdout",
     "output_type": "stream",
     "text": [
      "<class 'pandas.core.frame.DataFrame'>\n",
      "Int64Index: 481 entries, 0 to 480\n",
      "Data columns (total 21 columns):\n",
      "Byes              481 non-null float64\n",
      "Credits           481 non-null float64\n",
      "Losses            481 non-null int64\n",
      "Name              481 non-null object\n",
      "New Rating        481 non-null int64\n",
      "Old Rating        481 non-null float64\n",
      "Other Money       481 non-null object\n",
      "Perf Rating       481 non-null float64\n",
      "Place             481 non-null int64\n",
      "Player ID         481 non-null int64\n",
      "Prize Money       481 non-null object\n",
      "Seed              481 non-null int64\n",
      "Spread            481 non-null int64\n",
      "Ties              481 non-null float64\n",
      "Tournament ID     481 non-null int64\n",
      "Wins              481 non-null int64\n",
      "division          481 non-null object\n",
      "player_id         481 non-null int64\n",
      "points_against    481 non-null int64\n",
      "points_for        481 non-null int64\n",
      "tournament_id     481 non-null int64\n",
      "dtypes: float64(5), int64(12), object(4)\n",
      "memory usage: 82.7+ KB\n"
     ]
    }
   ],
   "source": [
    "df.info()"
   ]
  },
  {
   "cell_type": "code",
   "execution_count": 14,
   "metadata": {
    "collapsed": false
   },
   "outputs": [
    {
     "data": {
      "text/plain": [
       "0    Division 1\n",
       "1    Division 1\n",
       "2    Division 1\n",
       "3    Division 1\n",
       "4    Division 1\n",
       "Name: division, dtype: object"
      ]
     },
     "execution_count": 14,
     "metadata": {},
     "output_type": "execute_result"
    }
   ],
   "source": [
    "df['division'].head()"
   ]
  },
  {
   "cell_type": "code",
   "execution_count": 15,
   "metadata": {
    "collapsed": false
   },
   "outputs": [
    {
     "data": {
      "text/plain": [
       "0    443\n",
       "1    435\n",
       "2    443\n",
       "3    439\n",
       "4    450\n",
       "Name: points_for, dtype: int64"
      ]
     },
     "execution_count": 15,
     "metadata": {},
     "output_type": "execute_result"
    }
   ],
   "source": [
    "df['points_for'].head()"
   ]
  },
  {
   "cell_type": "code",
   "execution_count": 16,
   "metadata": {
    "collapsed": false
   },
   "outputs": [
    {
     "data": {
      "text/plain": [
       "0    381\n",
       "1    375\n",
       "2    391\n",
       "3    386\n",
       "4    396\n",
       "Name: points_against, dtype: int64"
      ]
     },
     "execution_count": 16,
     "metadata": {},
     "output_type": "execute_result"
    }
   ],
   "source": [
    "df['points_against'].head()"
   ]
  },
  {
   "cell_type": "code",
   "execution_count": 39,
   "metadata": {
    "collapsed": false
   },
   "outputs": [
    {
     "data": {
      "image/png": "[encoded data removed]",
      "text/plain": [
       "<matplotlib.figure.Figure at 0x108485940>"
      ]
     },
     "metadata": {},
     "output_type": "display_data"
    }
   ],
   "source": [
    "ax = df.plot(kind='scatter', x='points_for', y='points_against', figsize = (8,8) )\n",
    "for category, group in df.groupby('division'):\n",
    "    ax.plot(group['points_for'], group['points_against'], marker='o', linestyle='', label=category, markeredgewidth=0)\n",
    "ax.set_xlim([300, 460])\n",
    "ax.set_ylim([300, 440])\n",
    "ax.set_title(\"Understanding Richard's Scrabble Brilliance\")\n",
    "plt.savefig('Scrabble_King.pdf', transparent=True, bbox_inches='tight')\n"
   ]
  },
  {
   "cell_type": "code",
   "execution_count": null,
   "metadata": {
    "collapsed": true
   },
   "outputs": [],
   "source": []
  }
 ],
 "metadata": {
  "kernelspec": {
   "display_name": "Python 3",
   "language": "python",
   "name": "python3"
  },
  "language_info": {
   "codemirror_mode": {
    "name": "ipython",
    "version": 3
   },
   "file_extension": ".py",
   "mimetype": "text/x-python",
   "name": "python",
   "nbconvert_exporter": "python",
   "pygments_lexer": "ipython3",
   "version": "3.5.1"
  }
 },
 "nbformat": 4,
 "nbformat_minor": 0
}
