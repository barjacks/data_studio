{
 "cells": [
  {
   "cell_type": "code",
   "execution_count": 1,
   "metadata": {
    "collapsed": true
   },
   "outputs": [],
   "source": [
    "import pandas as pd\n",
    "import matplotlib.pyplot as plt\n",
    "import matplotlib\n",
    "matplotlib.rcParams[\"pdf.fonttype\"] = 42\n",
    "matplotlib.rcParams[\"ps.fonttype\"] = 42\n",
    "%matplotlib inline"
   ]
  },
  {
   "cell_type": "markdown",
   "metadata": {},
   "source": [
    "# Small multiples"
   ]
  },
  {
   "cell_type": "code",
   "execution_count": 5,
   "metadata": {
    "collapsed": false
   },
   "outputs": [
    {
     "data": {
      "text/html": [
       "<div>\n",
       "<table border=\"1\" class=\"dataframe\">\n",
       "  <thead>\n",
       "    <tr style=\"text-align: right;\">\n",
       "      <th></th>\n",
       "      <th>Country</th>\n",
       "      <th>Continent</th>\n",
       "      <th>Year</th>\n",
       "      <th>GDP_per_capita</th>\n",
       "      <th>life_expectancy</th>\n",
       "      <th>Population</th>\n",
       "    </tr>\n",
       "  </thead>\n",
       "  <tbody>\n",
       "    <tr>\n",
       "      <th>0</th>\n",
       "      <td>Afghanistan</td>\n",
       "      <td>Asia</td>\n",
       "      <td>1950</td>\n",
       "      <td>757.318795</td>\n",
       "      <td>26.674</td>\n",
       "      <td>8151455</td>\n",
       "    </tr>\n",
       "    <tr>\n",
       "      <th>1</th>\n",
       "      <td>Afghanistan</td>\n",
       "      <td>Asia</td>\n",
       "      <td>1951</td>\n",
       "      <td>766.752197</td>\n",
       "      <td>26.932</td>\n",
       "      <td>8276820</td>\n",
       "    </tr>\n",
       "    <tr>\n",
       "      <th>2</th>\n",
       "      <td>Afghanistan</td>\n",
       "      <td>Asia</td>\n",
       "      <td>1952</td>\n",
       "      <td>779.445314</td>\n",
       "      <td>27.448</td>\n",
       "      <td>8407148</td>\n",
       "    </tr>\n",
       "  </tbody>\n",
       "</table>\n",
       "</div>"
      ],
      "text/plain": [
       "       Country Continent  Year  GDP_per_capita  life_expectancy  Population\n",
       "0  Afghanistan      Asia  1950      757.318795           26.674     8151455\n",
       "1  Afghanistan      Asia  1951      766.752197           26.932     8276820\n",
       "2  Afghanistan      Asia  1952      779.445314           27.448     8407148"
      ]
     },
     "execution_count": 5,
     "metadata": {},
     "output_type": "execute_result"
    }
   ],
   "source": [
    "# Read in our data\n",
    "df = pd.read_csv(\"country-data.csv\")\n",
    "df.head(3)"
   ]
  },
  {
   "cell_type": "markdown",
   "metadata": {},
   "source": [
    "## Plotting everything"
   ]
  },
  {
   "cell_type": "code",
   "execution_count": 6,
   "metadata": {
    "collapsed": false
   },
   "outputs": [
    {
     "data": {
      "text/plain": [
       "<matplotlib.text.Text at 0x10d21ada0>"
      ]
     },
     "execution_count": 6,
     "metadata": {},
     "output_type": "execute_result"
    },
    {
     "data": {
      "image/png": "[encoded data removed]",
      "text/plain": [
       "<matplotlib.figure.Figure at 0x10cf97390>"
      ]
     },
     "metadata": {},
     "output_type": "display_data"
    }
   ],
   "source": [
    "fig, ax = plt.subplots()\n",
    "df[df['Country'] == 'Bhutan'].plot(x='Year', y='GDP_per_capita', ax=ax, legend=False)\n",
    "ax.set_title(\"Bhutan\")"
   ]
  },
  {
   "cell_type": "code",
   "execution_count": 7,
   "metadata": {
    "collapsed": false
   },
   "outputs": [
    {
     "data": {
      "text/plain": [
       "<matplotlib.text.Text at 0x108d1db38>"
      ]
     },
     "execution_count": 7,
     "metadata": {},
     "output_type": "execute_result"
    },
    {
     "data": {
      "image/png": "[encoded data removed]",
      "text/plain": [
       "<matplotlib.figure.Figure at 0x10d2592b0>"
      ]
     },
     "metadata": {},
     "output_type": "display_data"
    }
   ],
   "source": [
    "fig, ax = plt.subplots()\n",
    "df[df['Country'] == 'Iran'].plot(x='Year', y='GDP_per_capita', ax=ax, legend=False)\n",
    "ax.set_title(\"Iran\")"
   ]
  },
  {
   "cell_type": "markdown",
   "metadata": {},
   "source": [
    "# Using ax"
   ]
  },
  {
   "cell_type": "code",
   "execution_count": null,
   "metadata": {
    "collapsed": false
   },
   "outputs": [],
   "source": [
    "# One subplot again\n",
    "fig, ax = plt.subplots()\n",
    "\n",
    "# Use ax for both\n",
    "df[df['Country'] == 'Bhutan'].plot(x='Year', y='GDP_per_capita', ax=ax, label='Bhutan')\n",
    "df[df['Country'] == 'Iran'].plot(x='Year', y='GDP_per_capita', ax=ax, label='Iran')\n",
    "ax.set_title(\"Iran and Bhutan\")"
   ]
  },
  {
   "cell_type": "markdown",
   "metadata": {},
   "source": [
    "# Two separate charts, different images"
   ]
  },
  {
   "cell_type": "code",
   "execution_count": null,
   "metadata": {
    "collapsed": false
   },
   "outputs": [],
   "source": [
    "# One subplot again\n",
    "fig, ax = plt.subplots()\n",
    "fig2, ax2 = plt.subplots()\n",
    "\n",
    "# Use ax for both\n",
    "df[df['Country'] == 'Bhutan'].plot(x='Year', y='GDP_per_capita', ax=ax, label='Bhutan')\n",
    "df[df['Country'] == 'Iran'].plot(x='Year', y='GDP_per_capita', ax=ax2, label='Iran')\n",
    "ax.set_title(\"Iran and Bhutan\")"
   ]
  },
  {
   "cell_type": "markdown",
   "metadata": {},
   "source": [
    "# Using `plt.subplots` with `nrows`\n",
    "\n",
    "Those ax were pretty useless. But we can pass other things to `.subplots` instead of just nothing! Let's try passing `nrows=2` to get back two axes to plot on"
   ]
  },
  {
   "cell_type": "code",
   "execution_count": null,
   "metadata": {
    "collapsed": false
   },
   "outputs": [],
   "source": [
    "# Asking for TWO subplots, ax1 and ax2.\n",
    "# Be sure to put them in parenthesis\n",
    "fig, ax1, ax2 = plt.subplots(nrows=2, ncols=1)\n",
    "\n",
    "# Use ax1 to plot Bhutan\n",
    "df[df['Country'] == 'Bhutan'].plot(x='Year', y='GDP_per_capita', legend=False, ax=ax1)\n",
    "ax1.set_title(\"Bhutan\")\n",
    "\n",
    "# Use ax2 to plot Iran\n",
    "df[df['Country'] == 'Iran'].plot(x='Year', y='GDP_per_capita', legend=False, ax=ax2)\n",
    "ax2.set_title(\"Iran\")\n",
    "\n",
    "# If you don't do tight_layout() you'll have weird overlaps\n",
    "plt.tight_layout()"
   ]
  },
  {
   "cell_type": "markdown",
   "metadata": {},
   "source": [
    "# Let's put them side-by-side\n",
    "\n",
    "Use `nrows=1` and increase `ncols` to position graphics next to each other."
   ]
  },
  {
   "cell_type": "code",
   "execution_count": null,
   "metadata": {
    "collapsed": false
   },
   "outputs": [],
   "source": [
    "# Asking for TWO subplots, ax1 and ax2.\n",
    "# Be sure to put them in parenthesis\n",
    "fig, (ax1, ax2) = plt.subplots(nrows=1, ncols=2)\n",
    "\n",
    "# Use ax1 to plot Bhutan\n",
    "df[df['Country'] == 'Bhutan'].plot(x='Year', y='GDP_per_capita', legend=False, ax=ax1)\n",
    "ax1.set_title(\"Bhutan\")\n",
    "\n",
    "# Use ax2 to plot Iran\n",
    "df[df['Country'] == 'Iran'].plot(x='Year', y='GDP_per_capita', legend=False, ax=ax2)\n",
    "ax2.set_title(\"Iran\")\n",
    "\n",
    "# If you don't do tight_layout() you'll have weird overlaps\n",
    "plt.tight_layout()"
   ]
  },
  {
   "cell_type": "markdown",
   "metadata": {},
   "source": [
    "# Let's make it four"
   ]
  },
  {
   "cell_type": "code",
   "execution_count": null,
   "metadata": {
    "collapsed": false
   },
   "outputs": [],
   "source": [
    "# Asking for TWO subplots, ax1 and ax2.\n",
    "# Be sure to put them in parenthesis\n",
    "fig, (ax1, ax2, ax3, ax4) = plt.subplots(nrows=1, ncols=4)\n",
    "\n",
    "# Use ax1 to plot Bhutan\n",
    "df[df['Country'] == 'Bhutan'].plot(x='Year', y='GDP_per_capita', legend=False, ax=ax1)\n",
    "ax1.set_title(\"Bhutan\")\n",
    "\n",
    "# Use ax2 to plot Iran\n",
    "df[df['Country'] == 'Iran'].plot(x='Year', y='GDP_per_capita', legend=False, ax=ax2)\n",
    "ax2.set_title(\"Iran\")\n",
    "\n",
    "# Use ax3 to plot France\n",
    "df[df['Country'] == 'France'].plot(x='Year', y='GDP_per_capita', legend=False, ax=ax3)\n",
    "ax3.set_title(\"France\")\n",
    "\n",
    "# Use ax2 to plot Mexico\n",
    "df[df['Country'] == 'Mexico'].plot(x='Year', y='GDP_per_capita', legend=False, ax=ax4)\n",
    "ax4.set_title(\"Mexico\")\n",
    "\n",
    "# If you don't do tight_layout() you'll have weird overlaps\n",
    "plt.tight_layout()"
   ]
  },
  {
   "cell_type": "markdown",
   "metadata": {},
   "source": [
    "# Using figsize\n",
    "\n",
    "Use `figsize` to make the figure large enough to deal with everything you're going to be graphing"
   ]
  },
  {
   "cell_type": "code",
   "execution_count": null,
   "metadata": {
    "collapsed": false
   },
   "outputs": [],
   "source": [
    "# Asking for TWO subplots, ax1 and ax2.\n",
    "# Be sure to put them in parenthesis\n",
    "fig, (ax1, ax2, ax3, ax4) = plt.subplots(nrows=1, ncols=4, figsize=(14, 5))\n",
    "\n",
    "# Use ax1 to plot Bhutan\n",
    "df[df['Country'] == 'Bhutan'].plot(x='Year', y='GDP_per_capita', legend=False, ax=ax1)\n",
    "ax1.set_title(\"Bhutan\")\n",
    "\n",
    "# Use ax2 to plot Iran\n",
    "df[df['Country'] == 'Iran'].plot(x='Year', y='GDP_per_capita', legend=False, ax=ax2)\n",
    "ax2.set_title(\"Iran\")\n",
    "\n",
    "# Use ax3 to plot France\n",
    "df[df['Country'] == 'France'].plot(x='Year', y='GDP_per_capita', legend=False, ax=ax3)\n",
    "ax3.set_title(\"France\")\n",
    "\n",
    "# Use ax2 to plot Mexico\n",
    "df[df['Country'] == 'Venezuela'].plot(x='Year', y='GDP_per_capita', legend=False, ax=ax4)\n",
    "ax4.set_title(\"Venezuela\")\n",
    "\n",
    "# If you don't do tight_layout() you'll have weird overlaps\n",
    "plt.tight_layout()"
   ]
  },
  {
   "cell_type": "markdown",
   "metadata": {},
   "source": [
    "# Using nrows and ncols gets weird\n",
    "\n",
    "You can't just say `fig, (ax1, ax2 ax3, ax4) = plt.subplots(nrows=2, ncols=2)` when asking for multiple rows."
   ]
  },
  {
   "cell_type": "code",
   "execution_count": null,
   "metadata": {
    "collapsed": false
   },
   "outputs": [],
   "source": [
    "# Asking for TWO subplots, ax1 and ax2.\n",
    "# Be sure to put them in parenthesis\n",
    "fig, (ax1, ax2, ax3, ax4) = plt.subplots(nrows=2, ncols=2, figsize=(8, 8))\n",
    "\n",
    "# Use ax1 to plot Bhutan\n",
    "df[df['Country'] == 'Bhutan'].plot(x='Year', y='GDP_per_capita', legend=False, ax=ax1)\n",
    "ax1.set_title(\"Bhutan\")\n",
    "\n",
    "# Use ax2 to plot Iran\n",
    "df[df['Country'] == 'Iran'].plot(x='Year', y='GDP_per_capita', legend=False, ax=ax2)\n",
    "ax2.set_title(\"Iran\")\n",
    "\n",
    "# Use ax3 to plot France\n",
    "df[df['Country'] == 'France'].plot(x='Year', y='GDP_per_capita', legend=False, ax=ax3)\n",
    "ax3.set_title(\"France\")\n",
    "\n",
    "# Use ax2 to plot Mexico\n",
    "df[df['Country'] == 'Venezuela'].plot(x='Year', y='GDP_per_capita', legend=False, ax=ax4)\n",
    "ax4.set_title(\"Venezuela\")\n",
    "\n",
    "# If you don't do tight_layout() you'll have weird overlaps\n",
    "plt.tight_layout()"
   ]
  },
  {
   "cell_type": "markdown",
   "metadata": {},
   "source": [
    "# `sharex` and `sharey`"
   ]
  },
  {
   "cell_type": "code",
   "execution_count": null,
   "metadata": {
    "collapsed": false
   },
   "outputs": [],
   "source": [
    "# Asking for TWO subplots, ax1 and ax2.\n",
    "# Be sure to put them in parenthesis\n",
    "fig, ((ax1, ax2), (ax3, ax4)) = plt.subplots(nrows=2, ncols=2, figsize=(8, 8), sharex=True, sharey=True)\n",
    "\n",
    "# Use ax1 to plot Bhutan\n",
    "df[df['Country'] == 'Bhutan'].plot(x='Year', y='GDP_per_capita', legend=False, ax=ax1)\n",
    "ax1.set_title(\"Bhutan\")\n",
    "\n",
    "# Use ax2 to plot Iran\n",
    "df[df['Country'] == 'Iran'].plot(x='Year', y='GDP_per_capita', legend=False, ax=ax2)\n",
    "ax2.set_title(\"Iran\")\n",
    "\n",
    "# Use ax3 to plot France\n",
    "df[df['Country'] == 'France'].plot(x='Year', y='GDP_per_capita', legend=False, ax=ax3)\n",
    "ax3.set_title(\"France\")\n",
    "\n",
    "# Use ax2 to plot Mexico\n",
    "df[df['Country'] == 'Venezuela'].plot(x='Year', y='GDP_per_capita', legend=False, ax=ax4)\n",
    "ax4.set_title(\"Venezuela\")\n",
    "\n",
    "# If you don't do tight_layout() you'll have weird overlaps\n",
    "plt.tight_layout()"
   ]
  },
  {
   "cell_type": "markdown",
   "metadata": {},
   "source": [
    "# Using `plt.subplot`\n",
    "\n",
    "The other big way of making small multiples that you'll see everywhere is `plt.subplot` (notice it's `subplot` not `subplots`)"
   ]
  },
  {
   "cell_type": "code",
   "execution_count": null,
   "metadata": {
    "collapsed": false
   },
   "outputs": [],
   "source": [
    "# 1 row, 2 columns, and we'd like the second element.\n",
    "ax1 = plt.subplot(1, 2, 1)\n",
    "df[df['Country'] == 'Belarus'].plot(x='Year', y='GDP_per_capita', ax=ax1, legend=False)\n",
    "ax1.set_title(\"Belarus\")\n",
    "\n",
    "# 1 row, 2 columns, and we'd like the first element.\n",
    "ax2 = plt.subplot(1, 2, 2)\n",
    "df[df['Country'] == 'Bhutan'].plot(x='Year', y='GDP_per_capita', ax=ax2, legend=False)\n",
    "ax2.set_title(\"Bhutan\")\n",
    "\n",
    "plt.tight_layout()"
   ]
  },
  {
   "cell_type": "code",
   "execution_count": null,
   "metadata": {
    "collapsed": false
   },
   "outputs": [],
   "source": [
    "# 1 row, 2 columns, and we'd like the second element.\n",
    "ax1 = plt.subplot(1, 2, 1)\n",
    "df[df['Country'] == 'Belarus'].plot(x='Year', y='GDP_per_capita', ax=ax1, legend=False)\n",
    "ax1.set_title(\"Belarus\")\n",
    "\n",
    "# 1 row, 2 columns, and we'd like the first element.\n",
    "ax2 = plt.subplot(2, 2, 4)\n",
    "df[df['Country'] == 'Bhutan'].plot(x='Year', y='GDP_per_capita', ax=ax2, legend=False)\n",
    "ax2.set_title(\"Bhutan\")\n",
    "\n",
    "plt.tight_layout()"
   ]
  },
  {
   "cell_type": "code",
   "execution_count": null,
   "metadata": {
    "collapsed": false
   },
   "outputs": [],
   "source": [
    "# 1 row, 2 columns, and we'd like the second element.\n",
    "ax1 = plt.subplot(1, 2, 1)\n",
    "df[df['Country'] == 'Belarus'].plot(x='Year', y='GDP_per_capita', ax=ax1, legend=False)\n",
    "ax1.set_title(\"Belarus\")\n",
    "\n",
    "# 1 row, 2 columns, and we'd like the first element.\n",
    "ax2 = plt.subplot(2, 2, 2)\n",
    "df[df['Country'] == 'Iran'].plot(x='Year', y='GDP_per_capita', ax=ax2, legend=False)\n",
    "ax2.set_title(\"Iran\")\n",
    "\n",
    "ax3 = plt.subplot(2, 2, 4)\n",
    "df[df['Country'] == 'Bhutan'].plot(x='Year', y='GDP_per_capita', ax=ax3, legend=False)\n",
    "ax3.set_title(\"Bhutan\")\n",
    "\n",
    "plt.tight_layout()"
   ]
  },
  {
   "cell_type": "markdown",
   "metadata": {},
   "source": [
    "# Sharing axes using `plt.subplot`\n",
    "\n",
    "You can't just use `sharex` and `sharey`!"
   ]
  },
  {
   "cell_type": "code",
   "execution_count": null,
   "metadata": {
    "collapsed": false
   },
   "outputs": [],
   "source": [
    "# 1 row, 2 columns, and we'd like the second element.\n",
    "ax1 = plt.subplot(1, 2, 1)\n",
    "df[df['Country'] == 'Belarus'].plot(x='Year', y='GDP_per_capita', ax=ax1, legend=False)\n",
    "ax1.set_title(\"Belarus\")\n",
    "ax1.set_ylim((0, 15000))\n",
    "\n",
    "# 1 row, 2 columns, and we'd like the first element.\n",
    "ax2 = plt.subplot(2, 2, 2)\n",
    "df[df['Country'] == 'Iran'].plot(x='Year', y='GDP_per_capita', ax=ax2, legend=False)\n",
    "ax2.set_title(\"Iran\")\n",
    "ax2.set_ylim((0, 15000))\n",
    "\n",
    "ax3 = plt.subplot(2, 2, 4)\n",
    "df[df['Country'] == 'Bhutan'].plot(x='Year', y='GDP_per_capita', ax=ax3, legend=False)\n",
    "ax3.set_title(\"Bhutan\")\n",
    "ax3.set_ylim((0, 15000))\n",
    "\n",
    "plt.tight_layout()"
   ]
  },
  {
   "cell_type": "markdown",
   "metadata": {},
   "source": [
    "# Looping\n",
    "\n",
    "But this isn't going to work for looping. In fact, *most things don't work for looping*, but I figured it A Reasonable Method."
   ]
  },
  {
   "cell_type": "code",
   "execution_count": null,
   "metadata": {
    "collapsed": false
   },
   "outputs": [],
   "source": [
    "# We can ask for ALL THE AXES and put them into the axes variable\n",
    "# 3 rows, 3 columns\n",
    "fig, axes = plt.subplots(nrows=3, ncols=3, sharex=True, sharey=True)\n",
    "axes"
   ]
  },
  {
   "cell_type": "markdown",
   "metadata": {},
   "source": [
    "Right now it's 3 lists of 3 axes apiece, which will be hard to loop over."
   ]
  },
  {
   "cell_type": "code",
   "execution_count": null,
   "metadata": {
    "collapsed": false
   },
   "outputs": [],
   "source": [
    "axes"
   ]
  },
  {
   "cell_type": "code",
   "execution_count": null,
   "metadata": {
    "collapsed": false
   },
   "outputs": [],
   "source": [
    "len(axes)"
   ]
  },
  {
   "cell_type": "code",
   "execution_count": null,
   "metadata": {
    "collapsed": false
   },
   "outputs": [],
   "source": [
    "axes[0]"
   ]
  },
  {
   "cell_type": "code",
   "execution_count": null,
   "metadata": {
    "collapsed": false
   },
   "outputs": [],
   "source": [
    "axes[1]"
   ]
  },
  {
   "cell_type": "markdown",
   "metadata": {},
   "source": [
    "Luckily we can steal code from the internet to turn it into just one normal list"
   ]
  },
  {
   "cell_type": "code",
   "execution_count": null,
   "metadata": {
    "collapsed": false
   },
   "outputs": [],
   "source": [
    "# http://stackoverflow.com/questions/952914/making-a-flat-list-out-of-list-of-lists-in-python\n",
    "[item for sublist in axes for item in sublist] "
   ]
  },
  {
   "cell_type": "markdown",
   "metadata": {},
   "source": [
    "...and take them off one piece at a time..."
   ]
  },
  {
   "cell_type": "code",
   "execution_count": null,
   "metadata": {
    "collapsed": true
   },
   "outputs": [],
   "source": [
    "axes_list = [item for sublist in axes for item in sublist]"
   ]
  },
  {
   "cell_type": "code",
   "execution_count": null,
   "metadata": {
    "collapsed": false
   },
   "outputs": [],
   "source": [
    "len(axes_list)"
   ]
  },
  {
   "cell_type": "code",
   "execution_count": null,
   "metadata": {
    "collapsed": false
   },
   "outputs": [],
   "source": [
    "# Remove the first one, save it as 'ax'\n",
    "ax = axes_list.pop(0)\n",
    "ax"
   ]
  },
  {
   "cell_type": "code",
   "execution_count": null,
   "metadata": {
    "collapsed": false
   },
   "outputs": [],
   "source": [
    "# Only 8 left now\n",
    "len(axes_list)"
   ]
  },
  {
   "cell_type": "code",
   "execution_count": null,
   "metadata": {
    "collapsed": false
   },
   "outputs": [],
   "source": [
    "# Remove another one, save it as 'ax'\n",
    "ax = axes_list.pop(0)\n",
    "ax"
   ]
  },
  {
   "cell_type": "code",
   "execution_count": null,
   "metadata": {
    "collapsed": false
   },
   "outputs": [],
   "source": [
    "# Only 7 left now\n",
    "len(axes_list)"
   ]
  },
  {
   "cell_type": "code",
   "execution_count": null,
   "metadata": {
    "collapsed": false
   },
   "outputs": [],
   "source": [
    "# Remove another one, save it as 'ax'\n",
    "ax = axes_list.pop(0)\n",
    "ax"
   ]
  },
  {
   "cell_type": "code",
   "execution_count": null,
   "metadata": {
    "collapsed": false
   },
   "outputs": [],
   "source": [
    "# Only 6 left now\n",
    "len(axes_list)"
   ]
  },
  {
   "cell_type": "markdown",
   "metadata": {},
   "source": [
    "and we can just do this until we have none left!"
   ]
  },
  {
   "cell_type": "markdown",
   "metadata": {},
   "source": [
    "# Putting it together"
   ]
  },
  {
   "cell_type": "code",
   "execution_count": null,
   "metadata": {
    "collapsed": false
   },
   "outputs": [],
   "source": [
    "# We can ask for ALL THE AXES and put them into axes\n",
    "fig, axes = plt.subplots(nrows=2, ncols=5, sharex=True, sharey=True, figsize=(10,5))\n",
    "axes_list = [item for sublist in axes for item in sublist] \n",
    "\n",
    "countries = [\"Iran\", \"Iraq\", \"Venezuela\", \"China\", \"Bhutan\", \"Bangladesh\", \"Mexico\", \"Poland\", \"Kazakhstan\", \"Nepal\"]\n",
    "\n",
    "subset_df = df[df['Country'].isin(countries)]\n",
    "\n",
    "for countryname, selection in subset_df.groupby(\"Country\"):\n",
    "    ax = axes_list.pop(0)\n",
    "    selection.plot(x='Year', y='GDP_per_capita', label=countryname, ax=ax, legend=False)\n",
    "    ax.set_title(countryname)\n",
    "    ax.tick_params(\n",
    "        which='both',\n",
    "        bottom='off',\n",
    "        left='off',\n",
    "        right='off',\n",
    "        top='off'\n",
    "    )\n",
    "    ax.spines['left'].set_visible(False)\n",
    "    ax.spines['top'].set_visible(False)\n",
    "    ax.spines['right'].set_visible(False)\n",
    "\n",
    "# Now use the matplotlib .remove() method to \n",
    "# delete anything we didn't use\n",
    "for ax in axes_list:\n",
    "    ax.remove()"
   ]
  },
  {
   "cell_type": "code",
   "execution_count": null,
   "metadata": {
    "collapsed": false
   },
   "outputs": [],
   "source": [
    "# We can ask for ALL THE AXES and put them into axes\n",
    "fig, axes = plt.subplots(nrows=2, ncols=5, sharey=True, figsize=(10,5))\n",
    "axes_list = [item for sublist in axes for item in sublist] \n",
    "\n",
    "countries = [\"Iran\", \"Iraq\", \"Venezuela\", \"China\", \"Bhutan\", \"Bangladesh\", \"Mexico\", \"Poland\", \"Kazakhstan\", \"Nepal\"]\n",
    "\n",
    "subset_df = df[df['Country'].isin(countries)]\n",
    "\n",
    "for countryname, selection in subset_df.groupby(\"Country\"):\n",
    "    ax = axes_list.pop(0)\n",
    "    selection.plot(x='Year', y='GDP_per_capita', label=countryname, ax=ax, legend=False)\n",
    "    ax.set_title(countryname)\n",
    "    ax.tick_params(\n",
    "        which='minor',\n",
    "        bottom='off',\n",
    "        left='off',\n",
    "        right='off',\n",
    "        top='off'\n",
    "    )\n",
    "    ax.tick_params(\n",
    "        which='major',\n",
    "        bottom='on',\n",
    "        left='off',\n",
    "        right='off',\n",
    "        top='off'\n",
    "    )\n",
    "    ax.grid(linewidth=0.25)\n",
    "    ax.set_xticks((1950,1970, 1990, 2010))\n",
    "    ax.spines['left'].set_visible(False)\n",
    "    ax.spines['top'].set_visible(False)\n",
    "    ax.spines['right'].set_visible(False)\n",
    "    ax.set_xlabel(\"\")\n",
    "\n",
    "# Now use the matplotlib .remove() method to \n",
    "# delete anything we didn't use\n",
    "for ax in axes_list:\n",
    "    ax.remove()\n",
    "\n",
    "plt.tight_layout()"
   ]
  },
  {
   "cell_type": "code",
   "execution_count": null,
   "metadata": {
    "collapsed": true
   },
   "outputs": [],
   "source": []
  }
 ],
 "metadata": {
  "kernelspec": {
   "display_name": "Python 3",
   "language": "python",
   "name": "python3"
  },
  "language_info": {
   "codemirror_mode": {
    "name": "ipython",
    "version": 3
   },
   "file_extension": ".py",
   "mimetype": "text/x-python",
   "name": "python",
   "nbconvert_exporter": "python",
   "pygments_lexer": "ipython3",
   "version": "3.5.1"
  }
 },
 "nbformat": 4,
 "nbformat_minor": 0
}
